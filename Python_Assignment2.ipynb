{
  "nbformat": 4,
  "nbformat_minor": 0,
  "metadata": {
    "colab": {
      "provenance": [],
      "collapsed_sections": [],
      "authorship_tag": "ABX9TyMVO7K+8rNMzTUjfDYwrs6g",
      "include_colab_link": true
    },
    "kernelspec": {
      "name": "python3",
      "display_name": "Python 3"
    },
    "language_info": {
      "name": "python"
    }
  },
  "cells": [
    {
      "cell_type": "markdown",
      "metadata": {
        "id": "view-in-github",
        "colab_type": "text"
      },
      "source": [
        "<a href=\"https://colab.research.google.com/github/RaghaviNiranjani/PythonProject/blob/main/Python_Assignment2.ipynb\" target=\"_parent\"><img src=\"https://colab.research.google.com/assets/colab-badge.svg\" alt=\"Open In Colab\"/></a>"
      ]
    },
    {
      "cell_type": "code",
      "execution_count": 11,
      "metadata": {
        "id": "tg5KAcWToyvY"
      },
      "outputs": [],
      "source": [
        "import re   \n",
        "\n",
        "regex = '^[a-z0-9]+[\\._]?[a-z0-9]+[@]\\w+[.]\\w{2,3}$'  \n",
        "def check_email(email):   \n",
        "    if(re.search(regex,email)):   \n",
        "        return True\n",
        "    else:   \n",
        "        return False"
      ]
    },
    {
      "cell_type": "code",
      "source": [
        "def check_password(password):\n",
        "\n",
        "  def password_has_special_characters(password):\n",
        "      regex = re.compile('[@_!#$%^&*()<>?/\\|}{~:]')\n",
        "      if(regex.search(password) == None):\n",
        "        return False\n",
        "      else:\n",
        "        return True\n",
        "\n",
        "  def password_has_number(password):\n",
        "    password = [i for i in password]\n",
        "    any_numbers = []\n",
        "    for i in password:\n",
        "      if i.isdigit():\n",
        "        any_numbers.append(True)\n",
        "      else:\n",
        "        any_numbers.append(False)\n",
        "    return any(any_numbers)\n",
        "\n",
        "  def password_has_uppercase(password):\n",
        "    password = [i for i in password]\n",
        "    any_upper = []\n",
        "    for i in password:\n",
        "      if i.isupper():\n",
        "        any_upper.append(True)\n",
        "      else:\n",
        "        any_upper.append(False)\n",
        "    return any(any_upper)\n",
        "\n",
        "  def password_has_lower(password):\n",
        "    password = [i for i in password]\n",
        "    any_lower = []\n",
        "    for i in password:\n",
        "      if i.islower():\n",
        "        any_lower.append(True)\n",
        "      else:\n",
        "        any_lower.append(False)\n",
        "    return any(any_lower)\n",
        "\n",
        "  if password_has_special_characters(password) and\\\n",
        "     password_has_number(password) and \\\n",
        "     password_has_lower(password) and \\\n",
        "     password_has_uppercase(password):\n",
        "    return True\n",
        "  else:\n",
        "    return False"
      ],
      "metadata": {
        "id": "QuyQuR7GqYF4"
      },
      "execution_count": 12,
      "outputs": []
    },
    {
      "cell_type": "code",
      "source": [
        "print(\"For Register enter 1 \\n For login Enter 2 \\n For forgot password Enter 3\")\n",
        "inputs = int(input())\n",
        "\n",
        "\n",
        "if inputs == 1:\n",
        "  email = input(\"Enter your correct email id: \")\n",
        "  password = input(\"\"\"Enter your password \n",
        "  Must have minimum one special character,\n",
        "  one digit,\n",
        "  one uppercase,\n",
        "  one lowercase character\\n\"\"\")\n",
        "\n",
        "  if check_email(email) and check_password(password):\n",
        "    f = open(\"username_and_password.txt\", \"a\")\n",
        "    f.write(str(email)+\" \"+str(password)+\" \")\n",
        "    f.close()\n",
        "    print(\"Login is sucessfull\")\n",
        "  else:\n",
        "    print(\"Enter correct email or Enter passwords as per constraints\")\n",
        "  \n",
        "if inputs == 2:\n",
        "    email = input(\"Enter email: \")\n",
        "    password = input(\"Enter password: \")\n",
        "    k = open(\"username_and_password.txt\", \"r\")\n",
        "    all = k.read()\n",
        "    all = all.split(\" \")  \n",
        "    if email and password  in all:\n",
        "      print(\"Login successfull !!!\")\n",
        "    else:\n",
        "      print(\"Enter correct password or register \")\n",
        "\n",
        "if inputs == 3:\n",
        "    email = input(\"Enter your email to get your password :- \")\n",
        "    f = open(\"username_and_password.txt\", \"r\")\n",
        "    all = f.read()\n",
        "    all = all.split(\" \")\n",
        "    for i in range(0 , len(all),2):\n",
        "      if all[i] == email:\n",
        "        print(\"Your password is \",all[i+1])\n",
        "        break\n",
        "    if email not in all:\n",
        "      print(\"No password found associated with your email\")\n",
        "\n",
        "    \n",
        "    \n",
        "\n"
      ],
      "metadata": {
        "id": "1WK24Pr-qffM",
        "colab": {
          "base_uri": "https://localhost:8080/"
        },
        "outputId": "a63e1cd8-8274-4526-dc63-c71e1b4c1d18"
      },
      "execution_count": 13,
      "outputs": [
        {
          "output_type": "stream",
          "name": "stdout",
          "text": [
            "For Register enter 1 \n",
            " For login Enter 2 \n",
            " For forgot password Enter 3\n",
            "1\n",
            "Enter your correct email id: raghavihema12@hotmail.in\n",
            "Enter your password \n",
            "  Must have minimum one special character,\n",
            "  one digit,\n",
            "  one uppercase,\n",
            "  one lowercase character\n",
            "Raghavi@21\n",
            "Login is sucessfull\n"
          ]
        }
      ]
    },
    {
      "cell_type": "code",
      "source": [
        "k = open(\"username_and_password.txt\", \"r\")\n",
        "all = k.read()\n",
        "all = all.split(\" \") \n",
        "print(all)"
      ],
      "metadata": {
        "colab": {
          "base_uri": "https://localhost:8080/"
        },
        "id": "SlkgeN_jqocu",
        "outputId": "3263217f-4f52-475d-a403-719119c53fa9"
      },
      "execution_count": 15,
      "outputs": [
        {
          "output_type": "stream",
          "name": "stdout",
          "text": [
            "['raghavi123@gmail.com', 'Raghavi@12', '']\n"
          ]
        }
      ]
    }
  ]
}